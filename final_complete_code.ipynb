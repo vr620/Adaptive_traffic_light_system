{
 "cells": [
  {
   "cell_type": "code",
   "execution_count": 11,
   "metadata": {
    "colab": {
     "base_uri": "https://localhost:8080/",
     "height": 54
    },
    "colab_type": "code",
    "id": "Bjci2xQsFm4N",
    "outputId": "231fbefc-4a31-405f-8622-25347362f46d"
   },
   "outputs": [
    {
     "name": "stdout",
     "output_type": "stream",
     "text": [
      "Drive already mounted at /content/drive; to attempt to forcibly remount, call drive.mount(\"/content/drive\", force_remount=True).\n"
     ]
    }
   ],
   "source": [
    "from google.colab import drive\n",
    "drive.mount(\"/content/drive\")"
   ]
  },
  {
   "cell_type": "code",
   "execution_count": 0,
   "metadata": {
    "colab": {},
    "colab_type": "code",
    "id": "wc8ExMYmX2YL"
   },
   "outputs": [],
   "source": [
    "import cv2\n",
    "import os\n",
    "import numpy as np \n",
    "from skimage import io\n",
    "import matplotlib.pyplot as plt\n",
    "%matplotlib inline\n",
    "import os\n",
    "import time\n",
    "import sys"
   ]
  },
  {
   "cell_type": "code",
   "execution_count": 0,
   "metadata": {
    "colab": {},
    "colab_type": "code",
    "id": "VjH7Z_pxX2da"
   },
   "outputs": [],
   "source": [
    "initialize = True\n",
    "net = None\n",
    "files_dir = f'./drive/My Drive/yolo'\n",
    "classes = None\n",
    "COLORS = np.random.uniform(0, 255, size=(80, 3))"
   ]
  },
  {
   "cell_type": "code",
   "execution_count": 0,
   "metadata": {
    "colab": {},
    "colab_type": "code",
    "id": "t2I-s-JIX2ii"
   },
   "outputs": [],
   "source": [
    "#to get the classes\n",
    "def get_class_labels():\n",
    "\n",
    "    class_file_name = 'classes.txt'\n",
    "    class_file = os.path.join(files_dir , class_file_name) \n",
    "    f = open(class_file, 'r')\n",
    "    classes = [line.strip() for line in f.readlines()]\n",
    "\n",
    "    return classes"
   ]
  },
  {
   "cell_type": "code",
   "execution_count": 0,
   "metadata": {
    "colab": {},
    "colab_type": "code",
    "id": "xKQjUH1TX2la"
   },
   "outputs": [],
   "source": [
    "def get_output_layers(net):\n",
    "    \n",
    "    layer_names = net.getLayerNames()\n",
    "    \n",
    "    output_layers = [layer_names[i[0] - 1] for i in net.getUnconnectedOutLayers()]\n",
    "\n",
    "    return output_layers"
   ]
  },
  {
   "cell_type": "code",
   "execution_count": 0,
   "metadata": {
    "colab": {},
    "colab_type": "code",
    "id": "vCWgwHpZX2oT"
   },
   "outputs": [],
   "source": [
    "# to draw the outboxes, imp vehicles = {car , bus , truck , bike }\n",
    "def draw_out_boxes(img, bbox, labels, confidence, colors=None, write_conf=False):\n",
    "\n",
    "    global COLORS\n",
    "    global classes\n",
    "\n",
    "    if classes is None:\n",
    "        classes = populate_class_labels()\n",
    "    \n",
    "    for i, label in enumerate(labels):\n",
    "\n",
    "        if colors is None:\n",
    "            color = COLORS[classes.index(label)]            \n",
    "        else:\n",
    "            color = colors[classes.index(label)]\n",
    "\n",
    "        if write_conf:\n",
    "            label += ' ' + str(format(confidence[i] * 100, '.2f')) + '%'\n",
    "\n",
    "        cv2.rectangle(img, (bbox[i][0],bbox[i][1]), (bbox[i][2],bbox[i][3]), color, 2)\n",
    "\n",
    "        cv2.putText(img, label, (bbox[i][0],bbox[i][1]-10), cv2.FONT_HERSHEY_SIMPLEX, 0.5, color, 2)\n",
    "\n",
    "    return img"
   ]
  },
  {
   "cell_type": "code",
   "execution_count": 0,
   "metadata": {
    "colab": {},
    "colab_type": "code",
    "id": "-GMPj7nxX2gN"
   },
   "outputs": [],
   "source": [
    "def detect_object(image, confidence=0.5, nms_thresh=0.3, model='yolov3', enable_gpu=False):\n",
    "\n",
    "    Height, Width = image.shape[:2]\n",
    "    scale = 0.00392\n",
    "\n",
    "    global classes\n",
    "    global dest_dir\n",
    "    \n",
    "    config_file_name = 'yolov3.cfg'\n",
    "    weights_file_name = 'yolov3.weights'\n",
    "    config_file = os.path.join( files_dir , config_file_name)\n",
    "    weights_file = os.path.join( files_dir , weights_file_name)\n",
    "    \n",
    "    blob = cv2.dnn.blobFromImage(image, scale, (416,416), (0,0,0), True, crop=False) \n",
    "    \n",
    "    global initialize\n",
    "    global net\n",
    "    \n",
    "    if initialize:\n",
    "        classes = get_class_labels()\n",
    "        net = cv2.dnn.readNet(weights_file, config_file)\n",
    "        initialize = False\n",
    "\n",
    "    if enable_gpu:\n",
    "        net.setPreferableBackend(cv2.dnn.DNN_BACKEND_CUDA)\n",
    "        net.setPreferableTarget(cv2.dnn.DNN_TARGET_CUDA)\n",
    "\n",
    "    net.setInput(blob)\n",
    "    \n",
    "    outs = net.forward(get_output_layers(net))\n",
    "\n",
    "    class_numbers= []\n",
    "    confidences = []\n",
    "    boxes = []\n",
    "\n",
    "    for out in outs:\n",
    "        for detection in out:\n",
    "            scores = detection[5:]\n",
    "            class_id = np.argmax(scores)\n",
    "            max_conf = scores[class_id]\n",
    "            if max_conf > confidence:\n",
    "                center_x = int(detection[0] * Width)\n",
    "                center_y = int(detection[1] * Height)\n",
    "                w = int(detection[2] * Width)\n",
    "                h = int(detection[3] * Height)\n",
    "                x = center_x - (w / 2)\n",
    "                y = center_y - (h / 2)\n",
    "                class_numbers.append(class_id)\n",
    "                confidences.append(float(max_conf))\n",
    "                boxes.append([x, y, w, h])\n",
    "                \n",
    "    indices = cv2.dnn.NMSBoxes(boxes, confidences, confidence, nms_thresh)\n",
    "\n",
    "    bbox = []\n",
    "    label = []\n",
    "    conf = []\n",
    "\n",
    "    for i in indices:\n",
    "        i = i[0]\n",
    "        box = boxes[i]\n",
    "        x = box[0]\n",
    "        y = box[1]\n",
    "        w = box[2]\n",
    "        h = box[3]\n",
    "        bbox.append([int(x), int(y), int(x+w), int(y+h)])\n",
    "        label.append(str(classes[class_numbers[i]]))\n",
    "        conf.append(confidences[i])\n",
    "        \n",
    "    return bbox, label, conf\n",
    "\n"
   ]
  },
  {
   "cell_type": "code",
   "execution_count": 0,
   "metadata": {
    "colab": {},
    "colab_type": "code",
    "id": "dIbJ4XjiX2bl"
   },
   "outputs": [],
   "source": [
    "input_path =f'./drive/My Drive/Laal batti'\n",
    "output_path  = f'./drive/My Drive/output_images1'\n",
    "img_cnt = 0"
   ]
  },
  {
   "cell_type": "code",
   "execution_count": 0,
   "metadata": {
    "colab": {},
    "colab_type": "code",
    "id": "PM9ZkazEAz5I"
   },
   "outputs": [],
   "source": [
    "# imp variables\n",
    "cnt = 1\n",
    "cnt1 = 0\n",
    "m = int(70)\n",
    "# minimum limit of maximum time\n",
    "T = 70\n",
    "l = 0\n",
    "p = 0\n",
    "\n",
    "def profit_time(T , len_green_time):\n",
    "    p = T - len_green_time\n",
    "    return p\n",
    "\n",
    "def max_time(T , p):\n",
    "    l = T  + p\n",
    "    return l\n",
    "\n",
    "def calculate_timings(vehicle_count , Maximum_time):\n",
    "    # time of green signal = t\n",
    "    y = 3 * vehicle_count\n",
    "    if vehicle_count < 5:\n",
    "        t = 10\n",
    "    else:\n",
    "        if y > Maximum_time:\n",
    "            t= Maximum_time\n",
    "        else:\n",
    "            t = y\n",
    "    return t    "
   ]
  },
  {
   "cell_type": "code",
   "execution_count": 0,
   "metadata": {
    "colab": {
     "base_uri": "https://localhost:8080/",
     "height": 425
    },
    "colab_type": "code",
    "id": "SYta-oD7A0Ba",
    "outputId": "77b2db22-c21e-4fb7-d997-a2b917df097c"
   },
   "outputs": [
    {
     "name": "stdout",
     "output_type": "stream",
     "text": [
      "len2 - red -  70\n",
      "len3 - red -  140\n",
      "len4 - red -  210\n",
      " len1 green 1 seconds remaining.\n",
      "\n",
      "len1 - red -  210\n",
      "len3 - red -  70\n",
      "len4 - red -  140\n",
      " len2 green  1 seconds remaining.\n",
      "\n",
      "len1 - red -  140\n",
      "len2 - red -  210\n",
      "len4 - red -  63\n",
      " len3 green 1 seconds remaining.\n",
      "\n",
      "len1 - red -  77\n",
      "len2 - red -  147\n",
      "len3 - red -  210\n",
      " len4 green 1 seconds remaining.\n",
      "\n",
      "len2 - red -  70\n",
      "len3 - red -  140\n",
      "len4 - red -  210\n",
      " len1 green66 seconds remaining."
     ]
    }
   ],
   "source": [
    "for filename in os.listdir(input_path):\n",
    "    if filename.endswith(\".jpg\") or filename.endswith(\".png\"):\n",
    "        N = 0\n",
    "        car = 0\n",
    "        bus = 0\n",
    "        truck = 0\n",
    "        bike = 0\n",
    "        img_file=os.path.join(input_path, filename) \n",
    "        original_img = io.imread(img_file)\n",
    "        original_img = cv2.cvtColor(original_img, cv2.COLOR_BGR2RGB)\n",
    "        img=cv2.resize(original_img,(416,416))\n",
    "        \n",
    "        box, label, conf = detect_object(img)\n",
    "        output_image = draw_out_boxes(img, box, label, conf)\n",
    "        cv2.imwrite(os.path.join(output_path , 'out'+ str(img_cnt) + '.jpg'), output_image)\n",
    "        img_cnt+=1\n",
    "        for element in label:\n",
    "            if element == \"car\":\n",
    "                car = car+1\n",
    "            elif element == \"bus\":\n",
    "                bus = bus +1\n",
    "            elif element == \"truck\":\n",
    "                truck = truck + 1\n",
    "            elif element == \"motorcycle\":\n",
    "                bike = bike+1\n",
    "        N = car + bus + truck\n",
    "        \n",
    "        x = cnt - cnt1\n",
    "        if x ==1:\n",
    "            l = max_time(T,p)\n",
    "            n = calculate_timings(N ,l)\n",
    "            t1 = n\n",
    "            t2 = n\n",
    "            t3 = 2*T\n",
    "            t4 = 3*T\n",
    "            for i in range(1):\n",
    "                print(\"len2 - red - \" , t2)\n",
    "                print(\"len3 - red - \" , t3)\n",
    "                print(\"len4 - red - \" , t4)\n",
    "            for remaining in range(t1, 0, -1):\n",
    "                sys.stdout.write(\"\\r\")\n",
    "                sys.stdout.write(\" len1 green{:2d} seconds remaining.\".format(remaining))\n",
    "                sys.stdout.flush()\n",
    "                time.sleep(1)\n",
    "\n",
    "            m = n\n",
    "            p = profit_time(l, m)\n",
    "            if p>T:\n",
    "                p = T\n",
    "            else:\n",
    "                p = p\n",
    "            cnt += 1\n",
    "            print(\"\\n\")\n",
    "    \n",
    "        if x == 2:\n",
    "            l = max_time(T , p)\n",
    "            n = calculate_timings(N , T+p)\n",
    "            t1 = 3*T\n",
    "            t2 = n\n",
    "            t3 = n\n",
    "            t4 = (3*T - m)\n",
    "            for i in range(1):\n",
    "                print(\"len1 - red - \" , t1)\n",
    "                print(\"len3 - red - \" , t3)\n",
    "                print(\"len4 - red - \" , t4)\n",
    "            for remaining in range(t2, 0, -1):\n",
    "                sys.stdout.write(\"\\r\")\n",
    "                sys.stdout.write(\" len2 green {:2d} seconds remaining.\".format(remaining))\n",
    "                sys.stdout.flush()\n",
    "                time.sleep(1)\n",
    "            m = n\n",
    "            p = profit_time(l, m)\n",
    "            if p>T:\n",
    "                p = T\n",
    "            else:\n",
    "                p = p\n",
    "            cnt += 1\n",
    "            print(\"\\n\")\n",
    "    \n",
    "        if x == 3:\n",
    "            l = max_time(T , p)\n",
    "            n = calculate_timings(N , l)\n",
    "            t1 = (3*T - m)\n",
    "            t2 = 3*T\n",
    "            t3 = n\n",
    "            t4 = n\n",
    "            for i in range(1):\n",
    "                print(\"len1 - red - \" , t1)\n",
    "                print(\"len2 - red - \" , t2)\n",
    "                print(\"len4 - red - \" , t4)\n",
    "\n",
    "            for remaining in range(t3, 0, -1):\n",
    "                sys.stdout.write(\"\\r\")\n",
    "                sys.stdout.write(\" len3 green{:2d} seconds remaining.\".format(remaining))\n",
    "                sys.stdout.flush()\n",
    "                time.sleep(1)\n",
    "\n",
    "        \n",
    "            m = n\n",
    "            p = profit_time(l , m)\n",
    "            if p>T:\n",
    "                p = T\n",
    "            else:\n",
    "                p = p\n",
    "            cnt += 1\n",
    "            print(\"\\n\")\n",
    "    \n",
    "        if x == 4:\n",
    "            l = max_time(T , p)\n",
    "            n = calculate_timings(N , l)\n",
    "            t1 = n\n",
    "            t2 = (3*T - m)\n",
    "            t3 = 3*T\n",
    "            t4 = n\n",
    "            for i in range(1):\n",
    "                print(\"len1 - red - \" , t1)\n",
    "                print(\"len2 - red - \" , t2)\n",
    "                print(\"len3 - red - \" , t3)\n",
    "            for remaining in range(t4, 0, -1):\n",
    "                sys.stdout.write(\"\\r\")\n",
    "                sys.stdout.write(\" len4 green{:2d} seconds remaining.\".format(remaining))\n",
    "                sys.stdout.flush()\n",
    "                time.sleep(1)\n",
    "\n",
    "            m = n\n",
    "            p = profit_time(l , m)\n",
    "            if p>T:\n",
    "                p = T\n",
    "            else:\n",
    "                p = p\n",
    "            cnt= 1\n",
    "            print(\"\\n\")\n",
    "            \n",
    "    else:\n",
    "        continue"
   ]
  },
  {
   "cell_type": "code",
   "execution_count": 0,
   "metadata": {
    "colab": {},
    "colab_type": "code",
    "id": "IEWKwq2FAz_L"
   },
   "outputs": [],
   "source": []
  },
  {
   "cell_type": "code",
   "execution_count": 0,
   "metadata": {
    "colab": {},
    "colab_type": "code",
    "id": "AzYYrPY-Az9S"
   },
   "outputs": [],
   "source": []
  },
  {
   "cell_type": "code",
   "execution_count": 0,
   "metadata": {
    "colab": {},
    "colab_type": "code",
    "id": "slFmkfr0Az7l"
   },
   "outputs": [],
   "source": []
  },
  {
   "cell_type": "code",
   "execution_count": 0,
   "metadata": {
    "colab": {},
    "colab_type": "code",
    "id": "qRrQiYYrAz2l"
   },
   "outputs": [],
   "source": []
  }
 ],
 "metadata": {
  "colab": {
   "collapsed_sections": [],
   "name": "final_complete_code.ipynb",
   "provenance": []
  },
  "kernelspec": {
   "display_name": "Python 3",
   "language": "python",
   "name": "python3"
  },
  "language_info": {
   "codemirror_mode": {
    "name": "ipython",
    "version": 3
   },
   "file_extension": ".py",
   "mimetype": "text/x-python",
   "name": "python",
   "nbconvert_exporter": "python",
   "pygments_lexer": "ipython3",
   "version": "3.7.6"
  }
 },
 "nbformat": 4,
 "nbformat_minor": 1
}
